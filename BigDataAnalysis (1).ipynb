{
  "nbformat": 4,
  "nbformat_minor": 0,
  "metadata": {
    "colab": {
      "provenance": []
    },
    "kernelspec": {
      "name": "python3",
      "display_name": "Python 3"
    },
    "language_info": {
      "name": "python"
    }
  },
  "cells": [
    {
      "cell_type": "code",
      "execution_count": null,
      "metadata": {
        "colab": {
          "base_uri": "https://localhost:8080/"
        },
        "id": "_fUETMzfpb37",
        "outputId": "c31f7d40-0656-490b-ac70-b68ee2aed542"
      },
      "outputs": [
        {
          "output_type": "stream",
          "name": "stdout",
          "text": [
            "Requirement already satisfied: pyspark in /usr/local/lib/python3.11/dist-packages (3.5.1)\n",
            "Requirement already satisfied: py4j==0.10.9.7 in /usr/local/lib/python3.11/dist-packages (from pyspark) (0.10.9.7)\n"
          ]
        }
      ],
      "source": [
        "!pip install pyspark"
      ]
    },
    {
      "cell_type": "code",
      "source": [
        "from google.colab import drive\n",
        "drive.mount('/content/drive')\n"
      ],
      "metadata": {
        "colab": {
          "base_uri": "https://localhost:8080/"
        },
        "id": "_78dn950ppLK",
        "outputId": "a1725f07-d01f-4335-9500-b9f30a31c4ae"
      },
      "execution_count": null,
      "outputs": [
        {
          "output_type": "stream",
          "name": "stdout",
          "text": [
            "Mounted at /content/drive\n"
          ]
        }
      ]
    },
    {
      "cell_type": "code",
      "source": [
        "# ✅ Step 2: Download CSV from Google Drive using gdown\n",
        "import gdown\n",
        "\n",
        "# Replace with your correct file ID\n",
        "file_id = \"1X5U6lHBsqaBziO1g3XiLlm5EEodh5cun\"\n",
        "\n",
        "# Download to /content/large_data.csv\n",
        "gdown.download(f\"https://drive.google.com/uc?id={file_id}\", \"large_data.csv\", quiet=False)\n"
      ],
      "metadata": {
        "colab": {
          "base_uri": "https://localhost:8080/",
          "height": 142
        },
        "id": "aPzk6xvPqnLa",
        "outputId": "b98c8492-4dbd-4cfd-9aa0-7951bf8218db"
      },
      "execution_count": null,
      "outputs": [
        {
          "output_type": "stream",
          "name": "stderr",
          "text": [
            "Downloading...\n",
            "From (original): https://drive.google.com/uc?id=1X5U6lHBsqaBziO1g3XiLlm5EEodh5cun\n",
            "From (redirected): https://drive.google.com/uc?id=1X5U6lHBsqaBziO1g3XiLlm5EEodh5cun&confirm=t&uuid=1b1cffd8-0759-43f6-be80-34d9a173dd09\n",
            "To: /content/large_data.csv\n",
            "100%|██████████| 625M/625M [00:12<00:00, 48.2MB/s]\n"
          ]
        },
        {
          "output_type": "execute_result",
          "data": {
            "text/plain": [
              "'large_data.csv'"
            ],
            "application/vnd.google.colaboratory.intrinsic+json": {
              "type": "string"
            }
          },
          "metadata": {},
          "execution_count": 4
        }
      ]
    },
    {
      "cell_type": "code",
      "source": [
        "# ✅ Step 3: PySpark Analysis Script\n",
        "from pyspark.sql import SparkSession\n",
        "from pyspark.sql.functions import avg, max, min\n",
        "import shutil, glob\n",
        "\n",
        "# Step 1: Start Spark\n",
        "spark = SparkSession.builder.appName(\"BigDataAnalysis\").getOrCreate()\n",
        "\n",
        "# Step 2: Load CSV\n",
        "df = spark.read.csv(\"large_data.csv\", header=True, inferSchema=True)\n",
        "\n",
        "# Step 3: View data\n",
        "df.printSchema()\n",
        "df.show(5)\n",
        "\n",
        "# Step 4: Data Cleaning\n",
        "df_clean = df.dropna()\n",
        "\n",
        "# Step 5: Basic Analysis\n",
        "# Group by Item Type\n",
        "df_clean.groupBy(\"Item Type\").count().show()\n",
        "\n",
        "# Average Unit Price by Region\n",
        "df_clean.groupBy(\"Region\").agg(avg(\"Unit Price\")).show()\n",
        "\n",
        "# Max and Min Total Profit\n",
        "df_clean.select(max(\"Total Profit\"), min(\"Total Profit\")).show()\n",
        "\n",
        "# ✅ Step 6: Save full cleaned output\n",
        "df_clean.coalesce(1).write.mode(\"overwrite\")\\\n",
        "    .option(\"header\", \"true\")\\\n",
        "    .csv(\"/content/cleaned_output\")\n",
        "\n",
        "# ✅ Step 7: Save only first 1000 rows as sample output\n",
        "df_clean.limit(1000).coalesce(1).write.mode(\"overwrite\")\\\n",
        "    .option(\"header\", \"true\")\\\n",
        "    .csv(\"/content/sample_output\")\n",
        "\n",
        "# ✅ Step 8: Rename both outputs for download\n",
        "part_cleaned = glob.glob(\"/content/cleaned_output/part-*.csv\")[0]\n",
        "shutil.move(part_cleaned, \"/content/cleaned_output.csv\")\n",
        "\n",
        "part_sample = glob.glob(\"/content/sample_output/part-*.csv\")[0]\n",
        "shutil.move(part_sample, \"/content/sample_output.csv\")\n",
        "\n",
        "print(\"✅ cleaned_output.csv and sample_output.csv are ready to download!\")\n",
        "\n",
        "# Step 9: Stop Spark Session\n",
        "spark.stop()\n"
      ],
      "metadata": {
        "colab": {
          "base_uri": "https://localhost:8080/"
        },
        "id": "mrJDGSWyqfXV",
        "outputId": "7e3f475b-b7f2-420f-d8bf-38bc306892c2"
      },
      "execution_count": null,
      "outputs": [
        {
          "output_type": "stream",
          "name": "stdout",
          "text": [
            "root\n",
            " |-- Region: string (nullable = true)\n",
            " |-- Country: string (nullable = true)\n",
            " |-- Item Type: string (nullable = true)\n",
            " |-- Sales Channel: string (nullable = true)\n",
            " |-- Order Priority: string (nullable = true)\n",
            " |-- Order Date: date (nullable = true)\n",
            " |-- Order ID: integer (nullable = true)\n",
            " |-- Ship Date: date (nullable = true)\n",
            " |-- Units Sold: integer (nullable = true)\n",
            " |-- Unit Price: double (nullable = true)\n",
            " |-- Unit Cost: double (nullable = true)\n",
            " |-- Total Revenue: double (nullable = true)\n",
            " |-- Total Cost: double (nullable = true)\n",
            " |-- Total Profit: double (nullable = true)\n",
            "\n",
            "+--------------------+-------+---------------+-------------+--------------+----------+---------+----------+----------+----------+---------+-------------+----------+------------+\n",
            "|              Region|Country|      Item Type|Sales Channel|Order Priority|Order Date| Order ID| Ship Date|Units Sold|Unit Price|Unit Cost|Total Revenue|Total Cost|Total Profit|\n",
            "+--------------------+-------+---------------+-------------+--------------+----------+---------+----------+----------+----------+---------+-------------+----------+------------+\n",
            "|Australia and Oce...|  Palau|Office Supplies|       Online|             H|2020-03-06|517073523|2020-03-26|      2401|    651.21|   524.96|   1563555.21|1260428.96|   303126.25|\n",
            "|              Europe| Poland|      Beverages|       Online|             L|2014-04-18|380507028|2014-05-26|      9340|     47.45|    31.79|     443183.0|  296918.6|    146264.4|\n",
            "|       North America| Canada|         Cereal|       Online|             M|2019-01-08|504055583|2019-01-31|       103|     205.7|   117.11|      21187.1|  12062.33|     9124.77|\n",
            "|              Europe|Belarus|         Snacks|       Online|             C|2018-01-19|954955518|2018-02-27|      1414|    152.58|    97.44|    215748.12| 137780.16|    77967.96|\n",
            "|Middle East and N...|   Oman|         Cereal|      Offline|             H|2023-04-26|970755660|2023-06-02|      7027|     205.7|   117.11|    1445453.9| 822931.97|   622521.93|\n",
            "+--------------------+-------+---------------+-------------+--------------+----------+---------+----------+----------+----------+---------+-------------+----------+------------+\n",
            "only showing top 5 rows\n",
            "\n",
            "+---------------+------+\n",
            "|      Item Type| count|\n",
            "+---------------+------+\n",
            "|      Baby Food|416765|\n",
            "|         Cereal|416666|\n",
            "|           Meat|416653|\n",
            "|      Household|416666|\n",
            "|     Vegetables|416671|\n",
            "|      Beverages|416603|\n",
            "|Office Supplies|416822|\n",
            "|      Cosmetics|416711|\n",
            "|  Personal Care|416524|\n",
            "|         Fruits|416571|\n",
            "|         Snacks|416715|\n",
            "|        Clothes|416633|\n",
            "+---------------+------+\n",
            "\n",
            "+--------------------+------------------+\n",
            "|              Region|   avg(Unit Price)|\n",
            "+--------------------+------------------+\n",
            "|Middle East and N...| 266.1810638269519|\n",
            "|Australia and Oce...| 266.2805002994748|\n",
            "|              Europe| 266.1114837194869|\n",
            "|  Sub-Saharan Africa| 266.1960634964225|\n",
            "|Central America a...| 266.3095337705432|\n",
            "|       North America| 266.4841200950922|\n",
            "|                Asia|266.14815206671983|\n",
            "+--------------------+------------------+\n",
            "\n",
            "+-----------------+-----------------+\n",
            "|max(Total Profit)|min(Total Profit)|\n",
            "+-----------------+-----------------+\n",
            "|        1738700.0|             2.41|\n",
            "+-----------------+-----------------+\n",
            "\n",
            "✅ cleaned_output.csv and sample_output.csv are ready to download!\n"
          ]
        }
      ]
    },
    {
      "cell_type": "code",
      "source": [],
      "metadata": {
        "id": "xakdet3-iL_D"
      },
      "execution_count": null,
      "outputs": []
    }
  ]
}